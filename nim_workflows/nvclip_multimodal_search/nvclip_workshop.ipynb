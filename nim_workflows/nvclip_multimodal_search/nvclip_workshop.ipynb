{
 "cells": [
  {
   "cell_type": "markdown",
   "id": "311b1f7c-838e-4a02-a821-38f8f5448274",
   "metadata": {},
   "source": [
    "SPDX-FileCopyrightText: Copyright (c) 2024 NVIDIA CORPORATION & AFFILIATES. All rights reserved.  \n",
    "SPDX-License-Identifier: Apache-2.0\n",
    "\n",
    "# NV-CLIP NIM Multimodal Search Workshop\n",
    "\n",
    "NVIDIA Inference Microservices (NIMs) are a collection of easy to use API driven microservices to interact with AI models.\n",
    "\n",
    "This workshop will focus on the NV-CLIP NIM which is a commerically viable embedding model for both images and text. Having both images and text in the same embedding space makes it easy to determine how similar text is to any given image. \n",
    "\n",
    "This capability of being able to associate images with text, has led to the development of a new class of open vocabulary models that allow you to detect or classify anything based on text descriptions and powerful search applications through natural language. This notebook will explore how the embeddings produced by NV-CLIP can be used to create a semantic search application over a traffic camera dataset. \n",
    "\n",
    "To learn more about NIMs visit <a href=https://build.nvidia.com/explore/discover> ai.nvidia.com </a>\n",
    "\n",
    "![semantic search architecture diagram](readme_assets/semantic_search_diagram.png)"
   ]
  },
  {
   "cell_type": "markdown",
   "id": "302225dd-1944-4c4b-886b-fc7674b55627",
   "metadata": {},
   "source": [
    "This workshop has four parts:\n",
    "\n",
    "**Part 0**: Setup Environment  \n",
    "**Part 1**: NV-CLIP Requests  \n",
    "**Part 2**: Embeddings & Similarity   \n",
    "**Part 3**: Traffic Vehicle Search  "
   ]
  },
  {
   "cell_type": "markdown",
   "id": "bec21404-0f54-4bba-a2d4-57a360add0f4",
   "metadata": {},
   "source": [
    "# Part 0: Prepare the Workspace"
   ]
  },
  {
   "cell_type": "markdown",
   "id": "93faecdb",
   "metadata": {},
   "source": [
    "## Part 0.1: Setup Environment\n",
    "\n",
    "First, we set up the environment. This includes installing the required libraries.\n",
    "\n",
    "Note that this notebook will download a public traffic camera dataset that is 155MB and will be used throughout the notebook.\n"
   ]
  },
  {
   "cell_type": "code",
   "execution_count": 3,
   "id": "34b92fed",
   "metadata": {},
   "outputs": [
    {
     "name": "stdout",
     "output_type": "stream",
     "text": [
      "Notebook directory name: nvclip_multimodal_search\n",
      "Virtual environment path: /home/luke/Documents/GitHub/Camera-Based-Tracking/metropolis-providencecv/nim_workflows/nvclip_multimodal_search/nvclip_multimodal_search_venv\n",
      "Virtual environment 'nvclip_multimodal_search_venv' exists.\n",
      "To activate this environment, restart the kernel and run:\n",
      "    source /home/luke/Documents/GitHub/Camera-Based-Tracking/metropolis-providencecv/nim_workflows/nvclip_multimodal_search/nvclip_multimodal_search_venv/bin/activate\n"
     ]
    }
   ],
   "source": [
    "import subprocess\n",
    "import platform\n",
    "import os\n",
    "\n",
    "# Check/create virtual environment based on notebook directory name\n",
    "\n",
    "# Get the directory name of the current notebook\n",
    "notebook_dir = os.path.basename(os.path.abspath('.'))\n",
    "venv_name = notebook_dir + '_venv'\n",
    "\n",
    "print(f\"Notebook directory name: {notebook_dir}\")\n",
    "\n",
    "\n",
    "# Check if a virtual environment is active\n",
    "active_venv = os.environ.get('VIRTUAL_ENV')\n",
    "if active_venv:\n",
    "    active_venv_name = os.path.basename(active_venv)\n",
    "    print(f\"Currently active virtual environment: {active_venv_name}\")\n",
    "    \n",
    "    # If the active venv doesn't match the directory name\n",
    "    if active_venv_name != venv_name:\n",
    "        print(f\"Warning: Active environment doesn't match notebook directory name.\")\n",
    "\n",
    "\n",
    "# Check if a virtual environment with the directory name exists\n",
    "venv_path = os.path.join(os.path.abspath('.'), venv_name)\n",
    "print(f\"Virtual environment path: {venv_path}\")\n",
    "bin_dir = 'Scripts' if platform.system() == 'Windows' else 'bin'\n",
    "activate_script = os.path.join(venv_path, bin_dir, 'activate')\n",
    "\n",
    "if os.path.exists(activate_script):\n",
    "    print(f\"Virtual environment '{venv_name}' exists.\")\n",
    "    \n",
    "    if not active_venv or active_venv_name != venv_name:\n",
    "        print(f\"To activate this environment, restart the kernel and run:\")\n",
    "        if platform.system() == 'Windows':\n",
    "            print(f\"    {os.path.join(venv_path, 'Scripts', 'activate')}\")\n",
    "        else:\n",
    "            print(f\"    source {os.path.join(venv_path, 'bin', 'activate')}\")\n",
    "    \n",
    "else:\n",
    "    print(f\"Creating virtual environment '{venv_name}'...\")\n",
    "    try:\n",
    "        subprocess.run(['python', '-m', 'venv', venv_name], check=True)\n",
    "        print(f\"Virtual environment '{venv_name}' created successfully.\")\n",
    "        if platform.system() == 'Windows':\n",
    "            print(f\"    {os.path.join(venv_path, 'Scripts', 'activate')}\")\n",
    "        else:\n",
    "            print(f\"    source {os.path.join(venv_path, 'bin', 'activate')}\")\n",
    "    except subprocess.CalledProcessError as e:\n",
    "        print(f\"Error creating virtual environment: {e}\")"
   ]
  },
  {
   "cell_type": "markdown",
   "id": "156db4ea",
   "metadata": {},
   "source": [
    "## Part 0.2: Activate the environment and install dependencies\n",
    "\n",
    "***Run the script from the previous output to activate the environment.***\n",
    "\n",
    "```bash\n",
    "source /path/to/your/env/\n",
    "```\n",
    "\n",
    "This cell will change to the relevant Python version.\n",
    "\n",
    "Once that is done, it will install the required dependencies."
   ]
  },
  {
   "cell_type": "code",
   "execution_count": 4,
   "id": "8c4f282d",
   "metadata": {},
   "outputs": [
    {
     "name": "stdout",
     "output_type": "stream",
     "text": [
      "Activating virtual environment 'nvclip_multimodal_search_venv'...\n",
      "Requirement already satisfied: numpy in ./nvclip_multimodal_search_venv/lib/python3.12/site-packages (from -r requirements.txt (line 1)) (2.2.4)\n",
      "Requirement already satisfied: scikit-learn in ./nvclip_multimodal_search_venv/lib/python3.12/site-packages (from -r requirements.txt (line 2)) (1.6.1)\n",
      "Requirement already satisfied: uvicorn in ./nvclip_multimodal_search_venv/lib/python3.12/site-packages (from -r requirements.txt (line 3)) (0.34.1)\n",
      "Requirement already satisfied: fastapi in ./nvclip_multimodal_search_venv/lib/python3.12/site-packages (from -r requirements.txt (line 4)) (0.115.12)\n",
      "Requirement already satisfied: bokeh in ./nvclip_multimodal_search_venv/lib/python3.12/site-packages (from -r requirements.txt (line 5)) (3.7.2)\n",
      "Requirement already satisfied: gradio in ./nvclip_multimodal_search_venv/lib/python3.12/site-packages (from -r requirements.txt (line 6)) (5.25.2)\n",
      "Requirement already satisfied: pymilvus in ./nvclip_multimodal_search_venv/lib/python3.12/site-packages (from -r requirements.txt (line 7)) (2.5.6)\n",
      "Requirement already satisfied: requests in ./nvclip_multimodal_search_venv/lib/python3.12/site-packages (from -r requirements.txt (line 8)) (2.32.3)\n",
      "Requirement already satisfied: seaborn in ./nvclip_multimodal_search_venv/lib/python3.12/site-packages (from -r requirements.txt (line 9)) (0.13.2)\n",
      "Requirement already satisfied: matplotlib in ./nvclip_multimodal_search_venv/lib/python3.12/site-packages (from -r requirements.txt (line 10)) (3.10.1)\n",
      "Requirement already satisfied: pillow in ./nvclip_multimodal_search_venv/lib/python3.12/site-packages (from -r requirements.txt (line 11)) (11.2.1)\n",
      "Requirement already satisfied: tqdm in ./nvclip_multimodal_search_venv/lib/python3.12/site-packages (from -r requirements.txt (line 12)) (4.67.1)\n",
      "Requirement already satisfied: notebook in ./nvclip_multimodal_search_venv/lib/python3.12/site-packages (from -r requirements.txt (line 13)) (7.4.0)\n",
      "Requirement already satisfied: opencv-python in ./nvclip_multimodal_search_venv/lib/python3.12/site-packages (from -r requirements.txt (line 14)) (4.11.0.86)\n",
      "Requirement already satisfied: dotenv in ./nvclip_multimodal_search_venv/lib/python3.12/site-packages (from -r requirements.txt (line 15)) (0.9.9)\n",
      "Requirement already satisfied: scipy>=1.6.0 in ./nvclip_multimodal_search_venv/lib/python3.12/site-packages (from scikit-learn->-r requirements.txt (line 2)) (1.15.2)\n",
      "Requirement already satisfied: joblib>=1.2.0 in ./nvclip_multimodal_search_venv/lib/python3.12/site-packages (from scikit-learn->-r requirements.txt (line 2)) (1.4.2)\n",
      "Requirement already satisfied: threadpoolctl>=3.1.0 in ./nvclip_multimodal_search_venv/lib/python3.12/site-packages (from scikit-learn->-r requirements.txt (line 2)) (3.6.0)\n",
      "Requirement already satisfied: click>=7.0 in ./nvclip_multimodal_search_venv/lib/python3.12/site-packages (from uvicorn->-r requirements.txt (line 3)) (8.1.8)\n",
      "Requirement already satisfied: h11>=0.8 in ./nvclip_multimodal_search_venv/lib/python3.12/site-packages (from uvicorn->-r requirements.txt (line 3)) (0.14.0)\n",
      "Requirement already satisfied: starlette<0.47.0,>=0.40.0 in ./nvclip_multimodal_search_venv/lib/python3.12/site-packages (from fastapi->-r requirements.txt (line 4)) (0.46.2)\n",
      "Requirement already satisfied: pydantic!=1.8,!=1.8.1,!=2.0.0,!=2.0.1,!=2.1.0,<3.0.0,>=1.7.4 in ./nvclip_multimodal_search_venv/lib/python3.12/site-packages (from fastapi->-r requirements.txt (line 4)) (2.11.3)\n",
      "Requirement already satisfied: typing-extensions>=4.8.0 in ./nvclip_multimodal_search_venv/lib/python3.12/site-packages (from fastapi->-r requirements.txt (line 4)) (4.13.2)\n",
      "Requirement already satisfied: Jinja2>=2.9 in ./nvclip_multimodal_search_venv/lib/python3.12/site-packages (from bokeh->-r requirements.txt (line 5)) (3.1.6)\n",
      "Requirement already satisfied: contourpy>=1.2 in ./nvclip_multimodal_search_venv/lib/python3.12/site-packages (from bokeh->-r requirements.txt (line 5)) (1.3.2)\n",
      "Requirement already satisfied: narwhals>=1.13 in ./nvclip_multimodal_search_venv/lib/python3.12/site-packages (from bokeh->-r requirements.txt (line 5)) (1.35.0)\n",
      "Requirement already satisfied: packaging>=16.8 in ./nvclip_multimodal_search_venv/lib/python3.12/site-packages (from bokeh->-r requirements.txt (line 5)) (24.2)\n",
      "Requirement already satisfied: pandas>=1.2 in ./nvclip_multimodal_search_venv/lib/python3.12/site-packages (from bokeh->-r requirements.txt (line 5)) (2.2.3)\n",
      "Requirement already satisfied: PyYAML>=3.10 in ./nvclip_multimodal_search_venv/lib/python3.12/site-packages (from bokeh->-r requirements.txt (line 5)) (6.0.2)\n",
      "Requirement already satisfied: tornado>=6.2 in ./nvclip_multimodal_search_venv/lib/python3.12/site-packages (from bokeh->-r requirements.txt (line 5)) (6.4.2)\n",
      "Requirement already satisfied: xyzservices>=2021.09.1 in ./nvclip_multimodal_search_venv/lib/python3.12/site-packages (from bokeh->-r requirements.txt (line 5)) (2025.1.0)\n",
      "Requirement already satisfied: aiofiles<25.0,>=22.0 in ./nvclip_multimodal_search_venv/lib/python3.12/site-packages (from gradio->-r requirements.txt (line 6)) (24.1.0)\n",
      "Requirement already satisfied: anyio<5.0,>=3.0 in ./nvclip_multimodal_search_venv/lib/python3.12/site-packages (from gradio->-r requirements.txt (line 6)) (4.9.0)\n",
      "Requirement already satisfied: ffmpy in ./nvclip_multimodal_search_venv/lib/python3.12/site-packages (from gradio->-r requirements.txt (line 6)) (0.5.0)\n",
      "Requirement already satisfied: gradio-client==1.8.0 in ./nvclip_multimodal_search_venv/lib/python3.12/site-packages (from gradio->-r requirements.txt (line 6)) (1.8.0)\n",
      "Requirement already satisfied: groovy~=0.1 in ./nvclip_multimodal_search_venv/lib/python3.12/site-packages (from gradio->-r requirements.txt (line 6)) (0.1.2)\n",
      "Requirement already satisfied: httpx>=0.24.1 in ./nvclip_multimodal_search_venv/lib/python3.12/site-packages (from gradio->-r requirements.txt (line 6)) (0.28.1)\n",
      "Requirement already satisfied: huggingface-hub>=0.28.1 in ./nvclip_multimodal_search_venv/lib/python3.12/site-packages (from gradio->-r requirements.txt (line 6)) (0.30.2)\n",
      "Requirement already satisfied: markupsafe<4.0,>=2.0 in ./nvclip_multimodal_search_venv/lib/python3.12/site-packages (from gradio->-r requirements.txt (line 6)) (3.0.2)\n",
      "Requirement already satisfied: orjson~=3.0 in ./nvclip_multimodal_search_venv/lib/python3.12/site-packages (from gradio->-r requirements.txt (line 6)) (3.10.16)\n",
      "Requirement already satisfied: pydub in ./nvclip_multimodal_search_venv/lib/python3.12/site-packages (from gradio->-r requirements.txt (line 6)) (0.25.1)\n",
      "Requirement already satisfied: python-multipart>=0.0.18 in ./nvclip_multimodal_search_venv/lib/python3.12/site-packages (from gradio->-r requirements.txt (line 6)) (0.0.20)\n",
      "Requirement already satisfied: ruff>=0.9.3 in ./nvclip_multimodal_search_venv/lib/python3.12/site-packages (from gradio->-r requirements.txt (line 6)) (0.11.5)\n",
      "Requirement already satisfied: safehttpx<0.2.0,>=0.1.6 in ./nvclip_multimodal_search_venv/lib/python3.12/site-packages (from gradio->-r requirements.txt (line 6)) (0.1.6)\n",
      "Requirement already satisfied: semantic-version~=2.0 in ./nvclip_multimodal_search_venv/lib/python3.12/site-packages (from gradio->-r requirements.txt (line 6)) (2.10.0)\n",
      "Requirement already satisfied: tomlkit<0.14.0,>=0.12.0 in ./nvclip_multimodal_search_venv/lib/python3.12/site-packages (from gradio->-r requirements.txt (line 6)) (0.13.2)\n",
      "Requirement already satisfied: typer<1.0,>=0.12 in ./nvclip_multimodal_search_venv/lib/python3.12/site-packages (from gradio->-r requirements.txt (line 6)) (0.15.2)\n",
      "Requirement already satisfied: fsspec in ./nvclip_multimodal_search_venv/lib/python3.12/site-packages (from gradio-client==1.8.0->gradio->-r requirements.txt (line 6)) (2025.3.2)\n",
      "Requirement already satisfied: websockets<16.0,>=10.0 in ./nvclip_multimodal_search_venv/lib/python3.12/site-packages (from gradio-client==1.8.0->gradio->-r requirements.txt (line 6)) (15.0.1)\n",
      "Requirement already satisfied: setuptools>69 in ./nvclip_multimodal_search_venv/lib/python3.12/site-packages (from pymilvus->-r requirements.txt (line 7)) (78.1.0)\n",
      "Requirement already satisfied: grpcio<=1.67.1,>=1.49.1 in ./nvclip_multimodal_search_venv/lib/python3.12/site-packages (from pymilvus->-r requirements.txt (line 7)) (1.67.1)\n",
      "Requirement already satisfied: protobuf>=3.20.0 in ./nvclip_multimodal_search_venv/lib/python3.12/site-packages (from pymilvus->-r requirements.txt (line 7)) (6.30.2)\n",
      "Requirement already satisfied: python-dotenv<2.0.0,>=1.0.1 in ./nvclip_multimodal_search_venv/lib/python3.12/site-packages (from pymilvus->-r requirements.txt (line 7)) (1.1.0)\n",
      "Requirement already satisfied: ujson>=2.0.0 in ./nvclip_multimodal_search_venv/lib/python3.12/site-packages (from pymilvus->-r requirements.txt (line 7)) (5.10.0)\n",
      "Requirement already satisfied: milvus-lite>=2.4.0 in ./nvclip_multimodal_search_venv/lib/python3.12/site-packages (from pymilvus->-r requirements.txt (line 7)) (2.4.12)\n",
      "Requirement already satisfied: charset-normalizer<4,>=2 in ./nvclip_multimodal_search_venv/lib/python3.12/site-packages (from requests->-r requirements.txt (line 8)) (3.4.1)\n",
      "Requirement already satisfied: idna<4,>=2.5 in ./nvclip_multimodal_search_venv/lib/python3.12/site-packages (from requests->-r requirements.txt (line 8)) (3.10)\n",
      "Requirement already satisfied: urllib3<3,>=1.21.1 in ./nvclip_multimodal_search_venv/lib/python3.12/site-packages (from requests->-r requirements.txt (line 8)) (2.4.0)\n",
      "Requirement already satisfied: certifi>=2017.4.17 in ./nvclip_multimodal_search_venv/lib/python3.12/site-packages (from requests->-r requirements.txt (line 8)) (2025.1.31)\n",
      "Requirement already satisfied: cycler>=0.10 in ./nvclip_multimodal_search_venv/lib/python3.12/site-packages (from matplotlib->-r requirements.txt (line 10)) (0.12.1)\n",
      "Requirement already satisfied: fonttools>=4.22.0 in ./nvclip_multimodal_search_venv/lib/python3.12/site-packages (from matplotlib->-r requirements.txt (line 10)) (4.57.0)\n",
      "Requirement already satisfied: kiwisolver>=1.3.1 in ./nvclip_multimodal_search_venv/lib/python3.12/site-packages (from matplotlib->-r requirements.txt (line 10)) (1.4.8)\n",
      "Requirement already satisfied: pyparsing>=2.3.1 in ./nvclip_multimodal_search_venv/lib/python3.12/site-packages (from matplotlib->-r requirements.txt (line 10)) (3.2.3)\n",
      "Requirement already satisfied: python-dateutil>=2.7 in ./nvclip_multimodal_search_venv/lib/python3.12/site-packages (from matplotlib->-r requirements.txt (line 10)) (2.9.0.post0)\n",
      "Requirement already satisfied: jupyter-server<3,>=2.4.0 in ./nvclip_multimodal_search_venv/lib/python3.12/site-packages (from notebook->-r requirements.txt (line 13)) (2.15.0)\n",
      "Requirement already satisfied: jupyterlab-server<3,>=2.27.1 in ./nvclip_multimodal_search_venv/lib/python3.12/site-packages (from notebook->-r requirements.txt (line 13)) (2.27.3)\n",
      "Requirement already satisfied: jupyterlab<4.5,>=4.4.0rc0 in ./nvclip_multimodal_search_venv/lib/python3.12/site-packages (from notebook->-r requirements.txt (line 13)) (4.4.0)\n",
      "Requirement already satisfied: notebook-shim<0.3,>=0.2 in ./nvclip_multimodal_search_venv/lib/python3.12/site-packages (from notebook->-r requirements.txt (line 13)) (0.2.4)\n",
      "Requirement already satisfied: sniffio>=1.1 in ./nvclip_multimodal_search_venv/lib/python3.12/site-packages (from anyio<5.0,>=3.0->gradio->-r requirements.txt (line 6)) (1.3.1)\n",
      "Requirement already satisfied: httpcore==1.* in ./nvclip_multimodal_search_venv/lib/python3.12/site-packages (from httpx>=0.24.1->gradio->-r requirements.txt (line 6)) (1.0.8)\n",
      "Requirement already satisfied: filelock in ./nvclip_multimodal_search_venv/lib/python3.12/site-packages (from huggingface-hub>=0.28.1->gradio->-r requirements.txt (line 6)) (3.18.0)\n",
      "Requirement already satisfied: argon2-cffi>=21.1 in ./nvclip_multimodal_search_venv/lib/python3.12/site-packages (from jupyter-server<3,>=2.4.0->notebook->-r requirements.txt (line 13)) (23.1.0)\n",
      "Requirement already satisfied: jupyter-client>=7.4.4 in ./nvclip_multimodal_search_venv/lib/python3.12/site-packages (from jupyter-server<3,>=2.4.0->notebook->-r requirements.txt (line 13)) (8.6.3)\n",
      "Requirement already satisfied: jupyter-core!=5.0.*,>=4.12 in ./nvclip_multimodal_search_venv/lib/python3.12/site-packages (from jupyter-server<3,>=2.4.0->notebook->-r requirements.txt (line 13)) (5.7.2)\n",
      "Requirement already satisfied: jupyter-events>=0.11.0 in ./nvclip_multimodal_search_venv/lib/python3.12/site-packages (from jupyter-server<3,>=2.4.0->notebook->-r requirements.txt (line 13)) (0.12.0)\n",
      "Requirement already satisfied: jupyter-server-terminals>=0.4.4 in ./nvclip_multimodal_search_venv/lib/python3.12/site-packages (from jupyter-server<3,>=2.4.0->notebook->-r requirements.txt (line 13)) (0.5.3)\n",
      "Requirement already satisfied: nbconvert>=6.4.4 in ./nvclip_multimodal_search_venv/lib/python3.12/site-packages (from jupyter-server<3,>=2.4.0->notebook->-r requirements.txt (line 13)) (7.16.6)\n",
      "Requirement already satisfied: nbformat>=5.3.0 in ./nvclip_multimodal_search_venv/lib/python3.12/site-packages (from jupyter-server<3,>=2.4.0->notebook->-r requirements.txt (line 13)) (5.10.4)\n",
      "Requirement already satisfied: overrides>=5.0 in ./nvclip_multimodal_search_venv/lib/python3.12/site-packages (from jupyter-server<3,>=2.4.0->notebook->-r requirements.txt (line 13)) (7.7.0)\n",
      "Requirement already satisfied: prometheus-client>=0.9 in ./nvclip_multimodal_search_venv/lib/python3.12/site-packages (from jupyter-server<3,>=2.4.0->notebook->-r requirements.txt (line 13)) (0.21.1)\n",
      "Requirement already satisfied: pyzmq>=24 in ./nvclip_multimodal_search_venv/lib/python3.12/site-packages (from jupyter-server<3,>=2.4.0->notebook->-r requirements.txt (line 13)) (26.4.0)\n",
      "Requirement already satisfied: send2trash>=1.8.2 in ./nvclip_multimodal_search_venv/lib/python3.12/site-packages (from jupyter-server<3,>=2.4.0->notebook->-r requirements.txt (line 13)) (1.8.3)\n",
      "Requirement already satisfied: terminado>=0.8.3 in ./nvclip_multimodal_search_venv/lib/python3.12/site-packages (from jupyter-server<3,>=2.4.0->notebook->-r requirements.txt (line 13)) (0.18.1)\n",
      "Requirement already satisfied: traitlets>=5.6.0 in ./nvclip_multimodal_search_venv/lib/python3.12/site-packages (from jupyter-server<3,>=2.4.0->notebook->-r requirements.txt (line 13)) (5.14.3)\n",
      "Requirement already satisfied: websocket-client>=1.7 in ./nvclip_multimodal_search_venv/lib/python3.12/site-packages (from jupyter-server<3,>=2.4.0->notebook->-r requirements.txt (line 13)) (1.8.0)\n",
      "Requirement already satisfied: async-lru>=1.0.0 in ./nvclip_multimodal_search_venv/lib/python3.12/site-packages (from jupyterlab<4.5,>=4.4.0rc0->notebook->-r requirements.txt (line 13)) (2.0.5)\n",
      "Requirement already satisfied: ipykernel>=6.5.0 in ./nvclip_multimodal_search_venv/lib/python3.12/site-packages (from jupyterlab<4.5,>=4.4.0rc0->notebook->-r requirements.txt (line 13)) (6.29.5)\n",
      "Requirement already satisfied: jupyter-lsp>=2.0.0 in ./nvclip_multimodal_search_venv/lib/python3.12/site-packages (from jupyterlab<4.5,>=4.4.0rc0->notebook->-r requirements.txt (line 13)) (2.2.5)\n",
      "Requirement already satisfied: babel>=2.10 in ./nvclip_multimodal_search_venv/lib/python3.12/site-packages (from jupyterlab-server<3,>=2.27.1->notebook->-r requirements.txt (line 13)) (2.17.0)\n",
      "Requirement already satisfied: json5>=0.9.0 in ./nvclip_multimodal_search_venv/lib/python3.12/site-packages (from jupyterlab-server<3,>=2.27.1->notebook->-r requirements.txt (line 13)) (0.12.0)\n",
      "Requirement already satisfied: jsonschema>=4.18.0 in ./nvclip_multimodal_search_venv/lib/python3.12/site-packages (from jupyterlab-server<3,>=2.27.1->notebook->-r requirements.txt (line 13)) (4.23.0)\n",
      "Requirement already satisfied: pytz>=2020.1 in ./nvclip_multimodal_search_venv/lib/python3.12/site-packages (from pandas>=1.2->bokeh->-r requirements.txt (line 5)) (2025.2)\n",
      "Requirement already satisfied: tzdata>=2022.7 in ./nvclip_multimodal_search_venv/lib/python3.12/site-packages (from pandas>=1.2->bokeh->-r requirements.txt (line 5)) (2025.2)\n",
      "Requirement already satisfied: annotated-types>=0.6.0 in ./nvclip_multimodal_search_venv/lib/python3.12/site-packages (from pydantic!=1.8,!=1.8.1,!=2.0.0,!=2.0.1,!=2.1.0,<3.0.0,>=1.7.4->fastapi->-r requirements.txt (line 4)) (0.7.0)\n",
      "Requirement already satisfied: pydantic-core==2.33.1 in ./nvclip_multimodal_search_venv/lib/python3.12/site-packages (from pydantic!=1.8,!=1.8.1,!=2.0.0,!=2.0.1,!=2.1.0,<3.0.0,>=1.7.4->fastapi->-r requirements.txt (line 4)) (2.33.1)\n",
      "Requirement already satisfied: typing-inspection>=0.4.0 in ./nvclip_multimodal_search_venv/lib/python3.12/site-packages (from pydantic!=1.8,!=1.8.1,!=2.0.0,!=2.0.1,!=2.1.0,<3.0.0,>=1.7.4->fastapi->-r requirements.txt (line 4)) (0.4.0)\n",
      "Requirement already satisfied: six>=1.5 in ./nvclip_multimodal_search_venv/lib/python3.12/site-packages (from python-dateutil>=2.7->matplotlib->-r requirements.txt (line 10)) (1.17.0)\n",
      "Requirement already satisfied: shellingham>=1.3.0 in ./nvclip_multimodal_search_venv/lib/python3.12/site-packages (from typer<1.0,>=0.12->gradio->-r requirements.txt (line 6)) (1.5.4)\n",
      "Requirement already satisfied: rich>=10.11.0 in ./nvclip_multimodal_search_venv/lib/python3.12/site-packages (from typer<1.0,>=0.12->gradio->-r requirements.txt (line 6)) (14.0.0)\n",
      "Requirement already satisfied: argon2-cffi-bindings in ./nvclip_multimodal_search_venv/lib/python3.12/site-packages (from argon2-cffi>=21.1->jupyter-server<3,>=2.4.0->notebook->-r requirements.txt (line 13)) (21.2.0)\n",
      "Requirement already satisfied: comm>=0.1.1 in ./nvclip_multimodal_search_venv/lib/python3.12/site-packages (from ipykernel>=6.5.0->jupyterlab<4.5,>=4.4.0rc0->notebook->-r requirements.txt (line 13)) (0.2.2)\n",
      "Requirement already satisfied: debugpy>=1.6.5 in ./nvclip_multimodal_search_venv/lib/python3.12/site-packages (from ipykernel>=6.5.0->jupyterlab<4.5,>=4.4.0rc0->notebook->-r requirements.txt (line 13)) (1.8.14)\n",
      "Requirement already satisfied: ipython>=7.23.1 in ./nvclip_multimodal_search_venv/lib/python3.12/site-packages (from ipykernel>=6.5.0->jupyterlab<4.5,>=4.4.0rc0->notebook->-r requirements.txt (line 13)) (9.1.0)\n",
      "Requirement already satisfied: matplotlib-inline>=0.1 in ./nvclip_multimodal_search_venv/lib/python3.12/site-packages (from ipykernel>=6.5.0->jupyterlab<4.5,>=4.4.0rc0->notebook->-r requirements.txt (line 13)) (0.1.7)\n",
      "Requirement already satisfied: nest-asyncio in ./nvclip_multimodal_search_venv/lib/python3.12/site-packages (from ipykernel>=6.5.0->jupyterlab<4.5,>=4.4.0rc0->notebook->-r requirements.txt (line 13)) (1.6.0)\n",
      "Requirement already satisfied: psutil in ./nvclip_multimodal_search_venv/lib/python3.12/site-packages (from ipykernel>=6.5.0->jupyterlab<4.5,>=4.4.0rc0->notebook->-r requirements.txt (line 13)) (7.0.0)\n",
      "Requirement already satisfied: attrs>=22.2.0 in ./nvclip_multimodal_search_venv/lib/python3.12/site-packages (from jsonschema>=4.18.0->jupyterlab-server<3,>=2.27.1->notebook->-r requirements.txt (line 13)) (25.3.0)\n",
      "Requirement already satisfied: jsonschema-specifications>=2023.03.6 in ./nvclip_multimodal_search_venv/lib/python3.12/site-packages (from jsonschema>=4.18.0->jupyterlab-server<3,>=2.27.1->notebook->-r requirements.txt (line 13)) (2024.10.1)\n",
      "Requirement already satisfied: referencing>=0.28.4 in ./nvclip_multimodal_search_venv/lib/python3.12/site-packages (from jsonschema>=4.18.0->jupyterlab-server<3,>=2.27.1->notebook->-r requirements.txt (line 13)) (0.36.2)\n",
      "Requirement already satisfied: rpds-py>=0.7.1 in ./nvclip_multimodal_search_venv/lib/python3.12/site-packages (from jsonschema>=4.18.0->jupyterlab-server<3,>=2.27.1->notebook->-r requirements.txt (line 13)) (0.24.0)\n",
      "Requirement already satisfied: platformdirs>=2.5 in ./nvclip_multimodal_search_venv/lib/python3.12/site-packages (from jupyter-core!=5.0.*,>=4.12->jupyter-server<3,>=2.4.0->notebook->-r requirements.txt (line 13)) (4.3.7)\n",
      "Requirement already satisfied: python-json-logger>=2.0.4 in ./nvclip_multimodal_search_venv/lib/python3.12/site-packages (from jupyter-events>=0.11.0->jupyter-server<3,>=2.4.0->notebook->-r requirements.txt (line 13)) (3.3.0)\n",
      "Requirement already satisfied: rfc3339-validator in ./nvclip_multimodal_search_venv/lib/python3.12/site-packages (from jupyter-events>=0.11.0->jupyter-server<3,>=2.4.0->notebook->-r requirements.txt (line 13)) (0.1.4)\n",
      "Requirement already satisfied: rfc3986-validator>=0.1.1 in ./nvclip_multimodal_search_venv/lib/python3.12/site-packages (from jupyter-events>=0.11.0->jupyter-server<3,>=2.4.0->notebook->-r requirements.txt (line 13)) (0.1.1)\n",
      "Requirement already satisfied: beautifulsoup4 in ./nvclip_multimodal_search_venv/lib/python3.12/site-packages (from nbconvert>=6.4.4->jupyter-server<3,>=2.4.0->notebook->-r requirements.txt (line 13)) (4.13.4)\n",
      "Requirement already satisfied: bleach!=5.0.0 in ./nvclip_multimodal_search_venv/lib/python3.12/site-packages (from bleach[css]!=5.0.0->nbconvert>=6.4.4->jupyter-server<3,>=2.4.0->notebook->-r requirements.txt (line 13)) (6.2.0)\n",
      "Requirement already satisfied: defusedxml in ./nvclip_multimodal_search_venv/lib/python3.12/site-packages (from nbconvert>=6.4.4->jupyter-server<3,>=2.4.0->notebook->-r requirements.txt (line 13)) (0.7.1)\n",
      "Requirement already satisfied: jupyterlab-pygments in ./nvclip_multimodal_search_venv/lib/python3.12/site-packages (from nbconvert>=6.4.4->jupyter-server<3,>=2.4.0->notebook->-r requirements.txt (line 13)) (0.3.0)\n",
      "Requirement already satisfied: mistune<4,>=2.0.3 in ./nvclip_multimodal_search_venv/lib/python3.12/site-packages (from nbconvert>=6.4.4->jupyter-server<3,>=2.4.0->notebook->-r requirements.txt (line 13)) (3.1.3)\n",
      "Requirement already satisfied: nbclient>=0.5.0 in ./nvclip_multimodal_search_venv/lib/python3.12/site-packages (from nbconvert>=6.4.4->jupyter-server<3,>=2.4.0->notebook->-r requirements.txt (line 13)) (0.10.2)\n",
      "Requirement already satisfied: pandocfilters>=1.4.1 in ./nvclip_multimodal_search_venv/lib/python3.12/site-packages (from nbconvert>=6.4.4->jupyter-server<3,>=2.4.0->notebook->-r requirements.txt (line 13)) (1.5.1)\n",
      "Requirement already satisfied: pygments>=2.4.1 in ./nvclip_multimodal_search_venv/lib/python3.12/site-packages (from nbconvert>=6.4.4->jupyter-server<3,>=2.4.0->notebook->-r requirements.txt (line 13)) (2.19.1)\n",
      "Requirement already satisfied: fastjsonschema>=2.15 in ./nvclip_multimodal_search_venv/lib/python3.12/site-packages (from nbformat>=5.3.0->jupyter-server<3,>=2.4.0->notebook->-r requirements.txt (line 13)) (2.21.1)\n",
      "Requirement already satisfied: markdown-it-py>=2.2.0 in ./nvclip_multimodal_search_venv/lib/python3.12/site-packages (from rich>=10.11.0->typer<1.0,>=0.12->gradio->-r requirements.txt (line 6)) (3.0.0)\n",
      "Requirement already satisfied: ptyprocess in ./nvclip_multimodal_search_venv/lib/python3.12/site-packages (from terminado>=0.8.3->jupyter-server<3,>=2.4.0->notebook->-r requirements.txt (line 13)) (0.7.0)\n",
      "Requirement already satisfied: webencodings in ./nvclip_multimodal_search_venv/lib/python3.12/site-packages (from bleach!=5.0.0->bleach[css]!=5.0.0->nbconvert>=6.4.4->jupyter-server<3,>=2.4.0->notebook->-r requirements.txt (line 13)) (0.5.1)\n",
      "Requirement already satisfied: tinycss2<1.5,>=1.1.0 in ./nvclip_multimodal_search_venv/lib/python3.12/site-packages (from bleach[css]!=5.0.0->nbconvert>=6.4.4->jupyter-server<3,>=2.4.0->notebook->-r requirements.txt (line 13)) (1.4.0)\n",
      "Requirement already satisfied: decorator in ./nvclip_multimodal_search_venv/lib/python3.12/site-packages (from ipython>=7.23.1->ipykernel>=6.5.0->jupyterlab<4.5,>=4.4.0rc0->notebook->-r requirements.txt (line 13)) (5.2.1)\n",
      "Requirement already satisfied: ipython-pygments-lexers in ./nvclip_multimodal_search_venv/lib/python3.12/site-packages (from ipython>=7.23.1->ipykernel>=6.5.0->jupyterlab<4.5,>=4.4.0rc0->notebook->-r requirements.txt (line 13)) (1.1.1)\n",
      "Requirement already satisfied: jedi>=0.16 in ./nvclip_multimodal_search_venv/lib/python3.12/site-packages (from ipython>=7.23.1->ipykernel>=6.5.0->jupyterlab<4.5,>=4.4.0rc0->notebook->-r requirements.txt (line 13)) (0.19.2)\n",
      "Requirement already satisfied: pexpect>4.3 in ./nvclip_multimodal_search_venv/lib/python3.12/site-packages (from ipython>=7.23.1->ipykernel>=6.5.0->jupyterlab<4.5,>=4.4.0rc0->notebook->-r requirements.txt (line 13)) (4.9.0)\n",
      "Requirement already satisfied: prompt_toolkit<3.1.0,>=3.0.41 in ./nvclip_multimodal_search_venv/lib/python3.12/site-packages (from ipython>=7.23.1->ipykernel>=6.5.0->jupyterlab<4.5,>=4.4.0rc0->notebook->-r requirements.txt (line 13)) (3.0.51)\n",
      "Requirement already satisfied: stack_data in ./nvclip_multimodal_search_venv/lib/python3.12/site-packages (from ipython>=7.23.1->ipykernel>=6.5.0->jupyterlab<4.5,>=4.4.0rc0->notebook->-r requirements.txt (line 13)) (0.6.3)\n",
      "Requirement already satisfied: fqdn in ./nvclip_multimodal_search_venv/lib/python3.12/site-packages (from jsonschema[format-nongpl]>=4.18.0->jupyter-events>=0.11.0->jupyter-server<3,>=2.4.0->notebook->-r requirements.txt (line 13)) (1.5.1)\n",
      "Requirement already satisfied: isoduration in ./nvclip_multimodal_search_venv/lib/python3.12/site-packages (from jsonschema[format-nongpl]>=4.18.0->jupyter-events>=0.11.0->jupyter-server<3,>=2.4.0->notebook->-r requirements.txt (line 13)) (20.11.0)\n",
      "Requirement already satisfied: jsonpointer>1.13 in ./nvclip_multimodal_search_venv/lib/python3.12/site-packages (from jsonschema[format-nongpl]>=4.18.0->jupyter-events>=0.11.0->jupyter-server<3,>=2.4.0->notebook->-r requirements.txt (line 13)) (3.0.0)\n",
      "Requirement already satisfied: uri-template in ./nvclip_multimodal_search_venv/lib/python3.12/site-packages (from jsonschema[format-nongpl]>=4.18.0->jupyter-events>=0.11.0->jupyter-server<3,>=2.4.0->notebook->-r requirements.txt (line 13)) (1.3.0)\n",
      "Requirement already satisfied: webcolors>=24.6.0 in ./nvclip_multimodal_search_venv/lib/python3.12/site-packages (from jsonschema[format-nongpl]>=4.18.0->jupyter-events>=0.11.0->jupyter-server<3,>=2.4.0->notebook->-r requirements.txt (line 13)) (24.11.1)\n",
      "Requirement already satisfied: mdurl~=0.1 in ./nvclip_multimodal_search_venv/lib/python3.12/site-packages (from markdown-it-py>=2.2.0->rich>=10.11.0->typer<1.0,>=0.12->gradio->-r requirements.txt (line 6)) (0.1.2)\n",
      "Requirement already satisfied: cffi>=1.0.1 in ./nvclip_multimodal_search_venv/lib/python3.12/site-packages (from argon2-cffi-bindings->argon2-cffi>=21.1->jupyter-server<3,>=2.4.0->notebook->-r requirements.txt (line 13)) (1.17.1)\n",
      "Requirement already satisfied: soupsieve>1.2 in ./nvclip_multimodal_search_venv/lib/python3.12/site-packages (from beautifulsoup4->nbconvert>=6.4.4->jupyter-server<3,>=2.4.0->notebook->-r requirements.txt (line 13)) (2.6)\n",
      "Requirement already satisfied: pycparser in ./nvclip_multimodal_search_venv/lib/python3.12/site-packages (from cffi>=1.0.1->argon2-cffi-bindings->argon2-cffi>=21.1->jupyter-server<3,>=2.4.0->notebook->-r requirements.txt (line 13)) (2.22)\n",
      "Requirement already satisfied: parso<0.9.0,>=0.8.4 in ./nvclip_multimodal_search_venv/lib/python3.12/site-packages (from jedi>=0.16->ipython>=7.23.1->ipykernel>=6.5.0->jupyterlab<4.5,>=4.4.0rc0->notebook->-r requirements.txt (line 13)) (0.8.4)\n",
      "Requirement already satisfied: wcwidth in ./nvclip_multimodal_search_venv/lib/python3.12/site-packages (from prompt_toolkit<3.1.0,>=3.0.41->ipython>=7.23.1->ipykernel>=6.5.0->jupyterlab<4.5,>=4.4.0rc0->notebook->-r requirements.txt (line 13)) (0.2.13)\n",
      "Requirement already satisfied: arrow>=0.15.0 in ./nvclip_multimodal_search_venv/lib/python3.12/site-packages (from isoduration->jsonschema[format-nongpl]>=4.18.0->jupyter-events>=0.11.0->jupyter-server<3,>=2.4.0->notebook->-r requirements.txt (line 13)) (1.3.0)\n",
      "Requirement already satisfied: executing>=1.2.0 in ./nvclip_multimodal_search_venv/lib/python3.12/site-packages (from stack_data->ipython>=7.23.1->ipykernel>=6.5.0->jupyterlab<4.5,>=4.4.0rc0->notebook->-r requirements.txt (line 13)) (2.2.0)\n",
      "Requirement already satisfied: asttokens>=2.1.0 in ./nvclip_multimodal_search_venv/lib/python3.12/site-packages (from stack_data->ipython>=7.23.1->ipykernel>=6.5.0->jupyterlab<4.5,>=4.4.0rc0->notebook->-r requirements.txt (line 13)) (3.0.0)\n",
      "Requirement already satisfied: pure-eval in ./nvclip_multimodal_search_venv/lib/python3.12/site-packages (from stack_data->ipython>=7.23.1->ipykernel>=6.5.0->jupyterlab<4.5,>=4.4.0rc0->notebook->-r requirements.txt (line 13)) (0.2.3)\n",
      "Requirement already satisfied: types-python-dateutil>=2.8.10 in ./nvclip_multimodal_search_venv/lib/python3.12/site-packages (from arrow>=0.15.0->isoduration->jsonschema[format-nongpl]>=4.18.0->jupyter-events>=0.11.0->jupyter-server<3,>=2.4.0->notebook->-r requirements.txt (line 13)) (2.9.0.20241206)\n",
      "Requirements installed successfully.\n"
     ]
    },
    {
     "name": "stderr",
     "output_type": "stream",
     "text": [
      "\n",
      "\u001b[1m[\u001b[0m\u001b[34;49mnotice\u001b[0m\u001b[1;39;49m]\u001b[0m\u001b[39;49m A new release of pip is available: \u001b[0m\u001b[31;49m24.0\u001b[0m\u001b[39;49m -> \u001b[0m\u001b[32;49m25.0.1\u001b[0m\n",
      "\u001b[1m[\u001b[0m\u001b[34;49mnotice\u001b[0m\u001b[1;39;49m]\u001b[0m\u001b[39;49m To update, run: \u001b[0m\u001b[32;49mpython -m pip install --upgrade pip\u001b[0m\n"
     ]
    }
   ],
   "source": [
    "# Deactivate the current environment if any\n",
    "if active_venv and active_venv_name != venv_name:\n",
    "    print(f\"Deactivating the current environment '{active_venv_name}'...\")\n",
    "    subprocess.run(\"bash -c 'deactivate'\", shell=True)\n",
    "\n",
    "# Activate the virtual environment\n",
    "print(f\"Activating virtual environment '{venv_name}'...\")\n",
    "subprocess.run(f\"bash -c 'source {activate_script}'\", shell=True)\n",
    "venv_python = os.path.join(venv_path, bin_dir, \"python\")\n",
    "\n",
    "try:\n",
    "    subprocess.run([venv_python, '-m', 'pip', 'install', '-r', 'requirements.txt'], check=True)\n",
    "    print(\"Requirements installed successfully.\")\n",
    "except subprocess.CalledProcessError as e:\n",
    "    print(f\"Error installing required packages: {e}\")"
   ]
  },
  {
   "cell_type": "markdown",
   "id": "1b4b3b41",
   "metadata": {},
   "source": [
    "## Part 0.3: Restart the kernel and update Python version\n",
    "\n",
    "At the top of the notebook, you will see a button that says \"Restart\". Press it to restart the kernel.\n",
    "\n",
    "Once that is done, change the Python version in the top right to the one matching the name of the environment you just created. For example, if you created an environment called `nim`, select the Python version that says `nim` in the name."
   ]
  },
  {
   "cell_type": "code",
   "execution_count": 1,
   "id": "dc29dca4",
   "metadata": {},
   "outputs": [],
   "source": [
    "#Ensure all imports work \n",
    "import requests \n",
    "import json\n",
    "import os\n",
    "import numpy as np \n",
    "import seaborn as sns\n",
    "import matplotlib.pyplot as plt\n",
    "from sklearn.metrics.pairwise import cosine_similarity\n",
    "from PIL import Image \n",
    "from random import randint \n",
    "from pathlib import Path \n",
    "from tqdm import tqdm \n",
    "from random import sample\n",
    "from dotenv import load_dotenv, find_dotenv"
   ]
  },
  {
   "cell_type": "markdown",
   "id": "e2493650",
   "metadata": {},
   "source": [
    "## Part 0.4: Retrieve API Key\n",
    "\n",
    "The API key is required to access the NIMs, which should be stored in a .env file in either this directory or a master directory above this.\n",
    "The .env file should contain the following line:\n",
    "\n",
    "```\n",
    "NIM_API_KEY=nvapi-<the_rest_of_your_api_key>\n",
    "```\n",
    "\n",
    "You can get your API key from the NVIDIA NIMs portal: https://build.nvidia.com/ "
   ]
  },
  {
   "cell_type": "code",
   "execution_count": 6,
   "id": "340ed121-7fc1-4877-8015-34acdc7d66f5",
   "metadata": {},
   "outputs": [
    {
     "name": "stdout",
     "output_type": "stream",
     "text": [
      "API key ending in 3cRTN1 loaded successfully.\n"
     ]
    }
   ],
   "source": [
    "# Find the .env file in the current directory. If issues are encountered with the function of this API, please check there are no clashing .env files in the same directory as this notebook.\n",
    "find_dotenv()\n",
    "# Load environment variables from .env file\n",
    "load_dotenv()\n",
    "\n",
    "api_key = os.getenv(\"NIM_API_KEY\")\n",
    "print(f'API key ending in {api_key[-6:]} loaded successfully.')"
   ]
  },
  {
   "cell_type": "markdown",
   "id": "6fe4e1c7-be25-4472-83c7-3404c0401e80",
   "metadata": {},
   "source": [
    "If there are any errors at this point, ensure the dependecies installed properly can be imported before continuing. "
   ]
  },
  {
   "cell_type": "markdown",
   "id": "56ddc3cc-87ce-4609-9191-eba5f8eb0ccc",
   "metadata": {},
   "source": [
    "# Part 1: NV-CLIP Requests"
   ]
  },
  {
   "cell_type": "markdown",
   "id": "443672ef-3205-48cc-8614-7c50740d0b8a",
   "metadata": {},
   "source": [
    "This section shows how to call the NV-CLIP NIM API with a POST request to get an embedding for text input. \n",
    "\n",
    "Sending a request to the NV-CLIP NIM API requires a header that includes your API key for authorization and a payload with the content to be embedded. \n",
    "\n",
    "In the header, the API key should be presented as a Bearer token and the request body is JSON format. "
   ]
  },
  {
   "cell_type": "code",
   "execution_count": null,
   "id": "e913b0bd-c9cb-4bc9-be66-0f1350166f96",
   "metadata": {},
   "outputs": [],
   "source": [
    "base_url = \"https://integrate.api.nvidia.com/v1/embeddings\"\n",
    "headers = {\"Authorization\": f\"Bearer {api_key}\", \"Accept\": \"application/json\"}"
   ]
  },
  {
   "cell_type": "markdown",
   "id": "379ccc88-6711-417a-af6e-d44aad1856d0",
   "metadata": {},
   "source": [
    "### Part 1.1: Text Embeddings"
   ]
  },
  {
   "cell_type": "markdown",
   "id": "e9ce6b09-d6aa-41bf-ba9c-482049bb8187",
   "metadata": {},
   "source": [
    "We can then form the payload to generate an embedding for text input. "
   ]
  },
  {
   "cell_type": "code",
   "execution_count": null,
   "id": "9d3d2e0f-d964-4795-8293-b9a1b3326ac8",
   "metadata": {},
   "outputs": [],
   "source": [
    "payload = {\n",
    "    \"input\": \"An Apple\",\n",
    "    \"model\": \"nvidia/nvclip\"\n",
    "} "
   ]
  },
  {
   "cell_type": "markdown",
   "id": "6426e4fc-24ba-4d35-b75b-e8a7746d3c26",
   "metadata": {},
   "source": [
    "The payload required for NV-CLIP is an \"input\" field with a value that is either a string or a list of strings and a \"model\" field that specifies using the \"nvidia/nvclip\" embedding model.  "
   ]
  },
  {
   "cell_type": "code",
   "execution_count": null,
   "id": "4c3e8644-05f1-434d-8986-0b0e8a5d1372",
   "metadata": {},
   "outputs": [],
   "source": [
    "response = requests.post(base_url, headers=headers, json=payload)\n",
    "response = response.json()\n",
    "print(json.dumps(response, indent=2))"
   ]
  },
  {
   "cell_type": "markdown",
   "id": "f43b33e9-4117-429e-af3a-0b59b1a2d0a0",
   "metadata": {},
   "source": [
    "The Python requests library can then be used to send a POST request to the NV-CLIP API url. The response will be in JSON format and can be parsed to get the embedding vector for our input phrase \"An Apple\"."
   ]
  },
  {
   "cell_type": "code",
   "execution_count": null,
   "id": "72e7be3c-8696-4d41-92b6-881e9955419c",
   "metadata": {},
   "outputs": [],
   "source": [
    "embedding_vector = response[\"data\"][0][\"embedding\"]\n",
    "print(len(embedding_vector))\n",
    "print(type(embedding_vector[0]))\n",
    "print(embedding_vector)"
   ]
  },
  {
   "cell_type": "markdown",
   "id": "d5542524-6a8b-49a1-9945-7598b89b452f",
   "metadata": {},
   "source": [
    "The vector that gets returned is a list of 1024 floating point values that represent our text input in the embedding space."
   ]
  },
  {
   "cell_type": "markdown",
   "id": "4fd365ff-4005-494a-bee6-a398c83f2437",
   "metadata": {},
   "source": [
    "### Part 1.2 Image Embeddings"
   ]
  },
  {
   "cell_type": "markdown",
   "id": "1bf3e24b-ddd9-4224-9de5-2e08f2744ee2",
   "metadata": {},
   "source": [
    "A unique property of the CLIP family of models, is that they can also be used to embed images. To send an image to the NVCLIP NIM in the POST request, it needs to be converted to a base 64 string. \n",
    "\n",
    "NV-CLIP processes images at 336x336 resolution so we can first downsize our input image before converting it to a base 64 string. Resizing the image is not necessary but we can do it to reduce our payload size.\n",
    "\n",
    "The following code cells will generate the embedding of this image of an apple. \n",
    "\n",
    "![image](test_image.jpeg)"
   ]
  },
  {
   "cell_type": "code",
   "execution_count": null,
   "id": "39e194f0-2a8c-4a14-87e6-df3e4bc450e4",
   "metadata": {},
   "outputs": [],
   "source": [
    "import io\n",
    "import base64 \n",
    "def process_image(image):\n",
    "    \"\"\" Resize image, encode as jpeg to shrink size then convert to b64 for upload \"\"\"\n",
    "    if isinstance(image, str):\n",
    "        image = Image.open(image).convert(\"RGB\")\n",
    "    elif isinstance(image, Image.Image):\n",
    "        image = image.convert(\"RGB\")\n",
    "        \n",
    "    image = image.resize((336,336)) #Resize or center crop and padding to be square are common approaches \n",
    "    buf = io.BytesIO() #temporary buffer to save processed image \n",
    "    image.save(buf, format=\"JPEG\") #save as jpeg to reduce size\n",
    "    image = buf.getvalue()\n",
    "    image_b64 = base64.b64encode(image).decode() #convert to b64 string\n",
    "    assert len(image_b64) < 180_000, \"Image too large to upload.\" #ensure image is small enough\n",
    "    return image_b64"
   ]
  },
  {
   "cell_type": "code",
   "execution_count": null,
   "id": "61ab0858-ad9c-4da3-bb65-5ba350b180f2",
   "metadata": {},
   "outputs": [],
   "source": [
    "image_file = \"test_image.jpeg\"\n",
    "image_string = f\"data:image/jpeg;base64,{process_image(image_file)}\""
   ]
  },
  {
   "cell_type": "markdown",
   "id": "57bb578b-512f-4d4c-9b0a-d24a255cbe1b",
   "metadata": {},
   "source": [
    "We can now add the image string the same way we added our text input in the payload of the request. When the NVCLIP NIM receives a string with this format, it will automatically load it as an image. \n",
    "\n",
    "```data:image/jpeg;base64,{b64_string}```"
   ]
  },
  {
   "cell_type": "code",
   "execution_count": null,
   "id": "b7b2773e-cc01-4f25-8dc8-66431780f72e",
   "metadata": {},
   "outputs": [],
   "source": [
    "payload = {\"input\": [image_string], \"model\":\"nvidia/nvclip\"}"
   ]
  },
  {
   "cell_type": "code",
   "execution_count": null,
   "id": "6d57fedc-ab5a-4037-9cfb-b5a5815caa0b",
   "metadata": {},
   "outputs": [],
   "source": [
    "response = requests.post(base_url, headers=headers, json=payload)\n",
    "response = response.json()\n",
    "print(json.dumps(response, indent=2))"
   ]
  },
  {
   "cell_type": "markdown",
   "id": "737f8043-92b4-420a-bfb7-45a808c7bd95",
   "metadata": {},
   "source": [
    "In the request reponse, we get the vector representation (embedding) of the input image. The next section will show how we can compare these vectors to determine similarity.\n",
    "\n",
    "<p align=\"center\">\n",
    "  <img src=\"readme_assets/nvclip_diagram.png\" />\n",
    "</p>"
   ]
  },
  {
   "cell_type": "markdown",
   "id": "a4f90905-282e-45bc-ba54-06889893a6ea",
   "metadata": {},
   "source": [
    "## Part 2: Embeddings & Similarity"
   ]
  },
  {
   "cell_type": "markdown",
   "id": "7db46abb-580c-4150-978f-c5bf2505578b",
   "metadata": {},
   "source": [
    "Part 1 showed how to use the NVCLIP API to convert image and text into an embedding. This embedding is a 1024 dimensional vector of floating point numbers. One of the main benefits of converting image and text into a vector with an embedding model, is it enables an easy way to determine how similar images and text are to each other by calculating the cosine similarity between the vectors.  NVCLIP was trained on millions of image text pairs, allowing it to learn the association betweeen text and images. This knowledge is then captured in the embeddings that NVCLIP generates allowing us to use it as a tool to determine similarity between text and images. \n",
    "\n",
    "The ability to directly compare images and text in this manner enables powerful capabilities such as zero shot classification, semantic search and is critical for Visual Language Models (VLMs) such as LLaVA. The rest of this notebook will focus on similarity and how to build a semantic search application with the NVCLIP embeddings."
   ]
  },
  {
   "cell_type": "code",
   "execution_count": null,
   "id": "d3b5f35d-c08f-4738-bb27-71bfdc72fa30",
   "metadata": {},
   "outputs": [],
   "source": [
    "payload = {\n",
    "    \"input\": [\"apple\", \"banana\", image_string],\n",
    "    \"model\": \"nvidia/nvclip\"\n",
    "}\n",
    "response = requests.post(base_url, headers=headers, json=payload)\n",
    "response = response.json()\n",
    "print(json.dumps(response, indent=2))"
   ]
  },
  {
   "cell_type": "markdown",
   "id": "27c25fd4-c0fa-40ce-b8a1-14fe4d71482a",
   "metadata": {},
   "source": [
    "The NVCLIP API allows more than one input item at a time. In our payload, we can put a list of items as input. This list can be a mix of both text and images. Lets generate embeddings for the text \"apple\", \"banana\" and an image of an apple. "
   ]
  },
  {
   "cell_type": "code",
   "execution_count": null,
   "id": "18d72112-a4ca-4efb-aa43-f6b5496c62a8",
   "metadata": {},
   "outputs": [],
   "source": [
    "apple_vec = response[\"data\"][0][\"embedding\"]\n",
    "banana_vec = response[\"data\"][1][\"embedding\"]\n",
    "apple_image_vec = response[\"data\"][2][\"embedding\"]"
   ]
  },
  {
   "cell_type": "markdown",
   "id": "b93965eb-cf92-46ab-8c70-0ae5f68aa3c2",
   "metadata": {},
   "source": [
    "These vectors that represent each of our inputs can now be compared to each other to get a measure of how similar they are too each other. This can be done by calculating the cosine similarity between two of the vectors. \n",
    "\n",
    "When using cosine similarity, you will see values between [-1, 1]. A value close to 1 means the vectors are very similar to each other. We can plot the similarity scores for our three vectors."
   ]
  },
  {
   "cell_type": "code",
   "execution_count": null,
   "id": "ed7c94c4-aa38-49e6-a0e1-4d3dd447b44f",
   "metadata": {},
   "outputs": [],
   "source": [
    "embedding_vectors = np.array([apple_vec, banana_vec, apple_image_vec]) #convert vectors to np arrays \n",
    "labels = [\"'apple'\", \"'banana'\", \"apple_image\"]\n",
    "cosine_sim_matrix = cosine_similarity(embedding_vectors)\n",
    "plt.figure(figsize=(8, 6))\n",
    "sns.heatmap(cosine_sim_matrix[:, 2:3], annot=True, cmap='coolwarm', xticklabels=[labels[2]], yticklabels=labels)\n",
    "plt.title('Cosine Similarity Heatmap')\n",
    "plt.show()"
   ]
  },
  {
   "cell_type": "markdown",
   "id": "795cf374-17f1-4929-a7d6-44947e8537fe",
   "metadata": {},
   "source": [
    "From the heatmap, we can see that the similarity score between the image of an apple and the text \"apple\" is higher(closer to 1) than with the text \"banana\". Using NVCLIP and the similarity score between the embeddings, we were essentially able to classify the image as an apple. By adding more text labels and comparing against image embeddings, NVCLIP can be used to build a zero shot classification model that allows us to classify any images on arbitrary classes without any training!"
   ]
  },
  {
   "cell_type": "markdown",
   "id": "94a4e1e4-0fc2-410e-86e9-5b33429f0141",
   "metadata": {},
   "source": [
    "## Part 3 Traffic Vehicle Search"
   ]
  },
  {
   "cell_type": "markdown",
   "id": "8af2dee2-7676-4956-936d-27e73244f281",
   "metadata": {},
   "source": [
    "Lets apply NV-CLIP to a practical application of vehicle search over a large number of traffic cameras. \n",
    "\n",
    "It is often a challenge that there is more footage collected than possible to manually review and find what you are looking for. We can use NVCLIP to help us search through a large dataset of objects to find what we want. In this example, we will search over images of vehicles that have been cropped out of traffic cameras. "
   ]
  },
  {
   "cell_type": "markdown",
   "id": "9bfcf1dd-0cf9-45b0-8aa4-1fe704280585",
   "metadata": {},
   "source": [
    "## Part 3.1 Prepare Dataset"
   ]
  },
  {
   "cell_type": "markdown",
   "id": "46719d94-7e64-4556-b37b-08a966be087e",
   "metadata": {},
   "source": [
    "The rest of the notebook will use the [STREETS dataset hosted by the University of Illinois](https://databank.illinois.edu/datasets/IDB-3671567) which is a collection of traffic camera images.\n",
    "\n",
    "Run the following cells to download, view and prepare the traffic camera dataset for semantic search. This will download 148 MB of data.\n",
    "\n",
    "For each dataset an user elects to use, the user is responsible for checking if the dataset license is fit for the intended purpose.\n",
    "\n",
    "**Note**: If you are on Windows or the following cell fails to download and extract the dataset, then follow these steps to manually prepare the data:\n",
    "\n",
    "1) Download only the \"vehicleannotations.zip\" file from [this page](https://databank.illinois.edu/datasets/IDB-3671567)\n",
    "2) Place the \"vehicleannotations.zip\" in the same directory as this notebook\n",
    "3) Make a new folder in the same directory as this notebook called \"traffic_data\"\n",
    "4) In your file explorer, extract the \"vehicleannotations.zip\"\n",
    "5) Open the extracted directory and copy the \"vehicleannotations\" folder and place it into the \"traffic_data\" folder\n",
    "6) Ensure that in the same directory as your notebook you now have a folder\n",
    "\n",
    "``` \n",
    "nvclip_semantic_search/  \n",
    "├── nvclip_workshop.ipynb  \n",
    "└── traffic_data/  \n",
    "    └── vehicleannotations/  \n",
    "        ├── images  \n",
    "        └── annotations\n",
    "```     \n",
    "7) Once you verify the directory structure is correct, skip the following cell and continue with the notebook"
   ]
  },
  {
   "cell_type": "code",
   "execution_count": null,
   "id": "6b5eacc1-50f5-411a-885f-3f2d8a8c6d45",
   "metadata": {},
   "outputs": [],
   "source": [
    "#download dataset if not downloaded. SKIP if on Windown and follow the above instructions.\n",
    "!wget -N https://databank.illinois.edu/datafiles/ht2io/download #155MB download\n",
    "!unzip -q -o download -d traffic_data"
   ]
  },
  {
   "cell_type": "code",
   "execution_count": null,
   "id": "e2767045-8346-4dd5-a138-2b0dda0de1d3",
   "metadata": {},
   "outputs": [],
   "source": [
    "dataset_folder = Path(\"traffic_data/vehicleannotations\")\n",
    "image_folder = dataset_folder/\"images\"\n",
    "annotation_folder = dataset_folder/\"annotations\"\n",
    "crop_image_folder = dataset_folder/\"cropped_vehicles\""
   ]
  },
  {
   "cell_type": "code",
   "execution_count": null,
   "id": "d400796b-8fc6-4a69-bac9-324059784017",
   "metadata": {},
   "outputs": [],
   "source": [
    "import matplotlib.pyplot as plt \n",
    "import math \n",
    "def plot_images(image_folder, num_images):\n",
    "    image_files = os.listdir(image_folder)\n",
    "    sample_image_paths = sample(image_files, num_images)\n",
    "    image_paths = [image_folder/x for x in sample_image_paths]\n",
    "    grid_size = (math.ceil(num_images/3), 3)\n",
    "    fig, axes = plt.subplots(grid_size[0], grid_size[1], figsize=(15,15))\n",
    "    fig.subplots_adjust()\n",
    "\n",
    "    for i, ax in enumerate(axes.flat):\n",
    "        ax.axis(\"off\")\n",
    "        if i >= num_images:\n",
    "            break \n",
    "        img = Image.open(image_paths[i])\n",
    "        ax.imshow(img)\n",
    "        \n",
    "    plt.show()"
   ]
  },
  {
   "cell_type": "code",
   "execution_count": null,
   "id": "5d622d65-bc58-4244-93b9-e7d8b087a07f",
   "metadata": {},
   "outputs": [],
   "source": [
    "plot_images(image_folder, 9)"
   ]
  },
  {
   "cell_type": "markdown",
   "id": "f534dd72-9a6f-441a-b9a2-6fcf988df3f7",
   "metadata": {},
   "source": [
    "This dataset includes annotations for each image with bounding boxes of each car present in the image. Using these annotations we can crop out each car from the image. In this use case we will take advantage of this detection data being provided, however this could be combined with a detection model to first find the objects of interest and generate the bounding boxes. \n",
    "\n",
    "The following cells will crop out the vehicles and display them. After cropping out the vehicles there should be around 1600 images. Each NVCLIP request can accept up to 64 items so it will take 25 requests (25 credits) to embedd all the images. "
   ]
  },
  {
   "cell_type": "code",
   "execution_count": null,
   "id": "68bc9fba-85ec-475a-bb2c-0c5f7cdcca94",
   "metadata": {},
   "outputs": [],
   "source": [
    "#crop out cars\n",
    "annotation_file = annotation_folder/\"vehicle-annotations.json\"\n",
    "with open(annotation_file, \"r\") as file:\n",
    "    annotations = json.load(file)"
   ]
  },
  {
   "cell_type": "code",
   "execution_count": null,
   "id": "b7b9ec8b-2f71-4544-8638-5c2fae12a0b3",
   "metadata": {},
   "outputs": [],
   "source": [
    "def save_crop(image_path, bbox, output_path):\n",
    "    image = Image.open(image_path)\n",
    "    image = image.crop(bbox)\n",
    "    image.save(output_path)"
   ]
  },
  {
   "cell_type": "code",
   "execution_count": null,
   "id": "cf7abcdd-d9d6-46dd-a1ad-8192703b620a",
   "metadata": {},
   "outputs": [],
   "source": [
    "os.makedirs(crop_image_folder, exist_ok=True)\n",
    "\n",
    "#all_bboxes = []\n",
    "for key, value in tqdm(annotations.items()):\n",
    "    \"\"\"For each annotated vehicle, crop and save it\"\"\"\n",
    "    file_name = value[\"filename\"]\n",
    "\n",
    "    for x, region in enumerate(value[\"regions\"].values()): #each region is a vehicle \n",
    "        #convert polygon annotations to a bounding box \n",
    "        x_points = region[\"shape_attributes\"][\"all_points_x\"] \n",
    "        y_points = region[\"shape_attributes\"][\"all_points_y\"]\n",
    "        bbox = [min(x_points), min(y_points), max(x_points), max(y_points)]\n",
    "        area = (bbox[2]-bbox[0]) * (bbox[3] - bbox[1])\n",
    "        if area < 10000: #skip crops that are too small \n",
    "            continue \n",
    "        #all_bboxes.append(bbox)\n",
    "        file_path = image_folder/file_name\n",
    "        save_crop(file_path, bbox, f\"traffic_data/vehicleannotations/cropped_vehicles/{str(x).zfill(3)}_{file_name}\") #save cropped out car\n",
    "\n",
    "print(f\"Cropped Vehicle Images: {len(os.listdir(crop_image_folder))}\")"
   ]
  },
  {
   "cell_type": "code",
   "execution_count": null,
   "id": "9102dc80-5af5-4ff5-aceb-4228d03eb580",
   "metadata": {},
   "outputs": [],
   "source": [
    "plot_images(crop_image_folder, 9)"
   ]
  },
  {
   "cell_type": "markdown",
   "id": "453b8525-e19e-4fce-9212-724ef7d06e12",
   "metadata": {},
   "source": [
    "Now that we have images that contain individual vehicles, we can use NVCLIP to generate embeddings for each one to start building our semantic search application. \n",
    "\n",
    "Instead of directly calling NV-CLIP through POST requests, we can wrap it in an easy to use Python class with multi-threading support to speed up the responses. To view the full code for this view the nvclip.py file in the same directory as this notebook. \n",
    "\n",
    "With this NV-CLIP class, we can instantiate a new object and then pass it a list of file paths to where the cropped vehicles have been stored. The class will handle the image processing and requests behind the scenes. "
   ]
  },
  {
   "cell_type": "code",
   "execution_count": null,
   "id": "8db5a4e1-3f5e-468e-8e24-5d86f6d7dc7b",
   "metadata": {},
   "outputs": [],
   "source": [
    "from nvclip import NVCLIP \n",
    "nvclip = NVCLIP(api_key)\n",
    "cropped_image_files = [str(crop_image_folder/x) for x in os.listdir(crop_image_folder)] #list of all image paths to give to nvclip\n",
    "text_prompts = [\"A School Bus\"] #list of text prompts to embed and display with the images. "
   ]
  },
  {
   "cell_type": "markdown",
   "id": "ec7d83bb-303e-4fb1-be4e-eb4196907f5e",
   "metadata": {},
   "source": [
    "Now we can call NVCLIP on the image paths, parse the reponse and store it in a dictionary format to make it easier to work with. "
   ]
  },
  {
   "cell_type": "code",
   "execution_count": null,
   "id": "5f6e96de-66dd-4f97-832c-3e2341e078d3",
   "metadata": {},
   "outputs": [],
   "source": [
    "#embed images\n",
    "resp = nvclip(cropped_image_files, resize=False)\n",
    "image_embedding_data = []\n",
    "for i, data in enumerate(resp[\"data\"]):\n",
    "    data = {\"id\":i, \"vector\":data[\"embedding\"], \"file_name\":cropped_image_files[i]}\n",
    "    image_embedding_data.append(data)\n",
    "    \n",
    "image_embeddings = np.array([x[\"vector\"] for x in image_embedding_data])\n",
    "image_file_names = [x[\"file_name\"] for x in image_embedding_data]"
   ]
  },
  {
   "cell_type": "code",
   "execution_count": null,
   "id": "e55274d0-c8c0-4bd1-8c6f-21798b94cca6",
   "metadata": {},
   "outputs": [],
   "source": [
    "#embed text\n",
    "resp = nvclip(text_prompts)\n",
    "text_embedding_data = []\n",
    "for i, data in enumerate(resp[\"data\"]):\n",
    "    data = {\"id\":i, \"vector\":data[\"embedding\"], \"text_prompt\":text_prompts[i]}\n",
    "    text_embedding_data.append(data)\n",
    "\n",
    "text_embeddings = np.array([x[\"vector\"] for x in text_embedding_data])"
   ]
  },
  {
   "cell_type": "markdown",
   "id": "70c07a44-1eb6-4e9c-9b40-c4d9a9ae62d0",
   "metadata": {},
   "source": [
    "## 3.2 Plot Embeddings"
   ]
  },
  {
   "cell_type": "markdown",
   "id": "41ad344d-5035-4fc8-a0df-201a1eda4a3e",
   "metadata": {},
   "source": [
    "Now that the image embeddings have been generated for all of the cropped vehicles, the embeddings can be projected onto a 2D plot to understand more about the embedding space and explore the clusters. \n",
    "\n",
    "The clusters in the plot should represent images and text that are similar to each other. For example cars of the same type, color and shape should be close to each other once plotted. \n",
    "\n",
    "We will also add a red dot representing the embedding for the phrase \"A School Bus\". This will allow us to identify the school bus cluster as it should appear near the images of school buses. \n",
    "\n",
    "Run the cell bellow to generate the plot. It may take a few minutes to appear after running the cell. \n",
    "\n",
    "Once it appears, hover your cursor around the plot to see how NVCLIP clusters the images. "
   ]
  },
  {
   "cell_type": "code",
   "execution_count": null,
   "id": "bc5178c9-6fed-49dd-887d-0a3a95605037",
   "metadata": {},
   "outputs": [],
   "source": [
    "from sklearn.manifold import TSNE\n",
    "import numpy as np\n",
    "from bokeh.plotting import figure, show, output_notebook\n",
    "from bokeh.models import ColumnDataSource, HoverTool, CustomJS\n",
    "from bokeh.layouts import column\n",
    "from bokeh.io import output_notebook\n",
    "from pathlib import Path \n",
    "import base64\n",
    "\n",
    "#helper to show images in the plot \n",
    "def encode_image_to_base64(image_path):\n",
    "    with open(image_path, \"rb\") as image_file:\n",
    "        return base64.b64encode(image_file.read()).decode('utf-8')\n",
    "\n",
    "# Enable Bokeh output in Jupyter Notebooks\n",
    "output_notebook()\n",
    "\n",
    "hosted_image_paths = [f\"data:image/jpg;base64,{encode_image_to_base64(x)}\" for x in image_file_names]\n",
    "combined_embeddings = np.vstack([text_embeddings, image_embeddings])\n",
    "contents = text_prompts.copy()\n",
    "contents.extend(hosted_image_paths)\n",
    "content_names = text_prompts.copy()\n",
    "content_names.extend([str(Path(x).name) for x in image_file_names])\n",
    "\n",
    "content_types = [\"text\"]\n",
    "content_types.extend([\"image\"] * len(image_file_names))\n",
    "\n",
    "# Apply t-SNE\n",
    "tsne = TSNE(n_components=2, perplexity=30, learning_rate=200, early_exaggeration=30, n_iter=2000, random_state=42, metric=\"cosine\")\n",
    "embedding_2d = tsne.fit_transform(combined_embeddings)\n",
    "\n",
    "split_index = len(text_prompts)\n",
    "# Prepare text data for Bokeh\n",
    "text_source = ColumnDataSource(data=dict(\n",
    "    x=embedding_2d[0:split_index, 0],\n",
    "    y=embedding_2d[0:split_index, 1],\n",
    "    content=contents[0:split_index],\n",
    "    content_name=content_names[0:split_index],\n",
    "    content_type = content_types[0:split_index]\n",
    "))\n",
    "\n",
    "# Prepare image data for Bokeh\n",
    "image_source = ColumnDataSource(data=dict(\n",
    "    x=embedding_2d[split_index:, 0],\n",
    "    y=embedding_2d[split_index:, 1],\n",
    "    content=contents[split_index:],\n",
    "    content_name=content_names[split_index:],\n",
    "    content_type = content_types[split_index:]\n",
    "))\n",
    "\n",
    "# Create plot\n",
    "p = figure(title=\"NVCLIP Embedding Visualization\", tools=\"pan,wheel_zoom,box_zoom,reset,hover,save\")\n",
    "\n",
    "image_renderer= p.scatter('x', 'y', size=8, source=image_source, color='blue', legend_label=\"Image Embedding\")\n",
    "\n",
    "# Highlight the text embedding with a different color\n",
    "text_renderer = p.scatter('x', 'y', size=10, source=text_source, color='red', legend_label='Text Embedding')\n",
    "\n",
    "#tooltip to display text\n",
    "text_hover = HoverTool(renderers=[text_renderer], tooltips=\"\"\"\n",
    "\n",
    "    <h2>@content</h2>\n",
    "    \n",
    "\"\"\")\n",
    "p.add_tools(text_hover)\n",
    "\n",
    "# tooltip to display images \n",
    "image_hover = HoverTool(renderers=[image_renderer], tooltips=\"\"\"\n",
    "    <div>\n",
    "        <div>\n",
    "            <span style=\"font-size: 15px;\">@content_name</span>\n",
    "        </div>\n",
    "        <div>\n",
    "            <img src=\"@content\" height=\"100\" alt=\"@file_name\" style=\"float: left; margin: 0px 15px 15px 0px;\" />\n",
    "        </div>\n",
    "    </div>\n",
    "\"\"\")\n",
    "p.add_tools(image_hover)\n",
    "\n",
    "# Layout\n",
    "layout = column(p)\n",
    "\n",
    "# Show plot in notebook\n",
    "show(layout)\n"
   ]
  },
  {
   "cell_type": "markdown",
   "id": "72710e11-d240-42b0-8745-e5cda6c9630a",
   "metadata": {},
   "source": [
    "To build a semantic search application, we need something to help automate the process of storing and searching our vectors. We can use a vector database to do this. The next section will show how to use the Milvus Vector Database. "
   ]
  },
  {
   "cell_type": "markdown",
   "id": "000d1c45-af3c-4b54-9b25-c7fc070de722",
   "metadata": {},
   "source": [
    "## 3.3 Vector Database "
   ]
  },
  {
   "cell_type": "markdown",
   "id": "8bcdb221-6932-4883-b284-ac31cd1e1d39",
   "metadata": {},
   "source": [
    "Milvus is a Vector Database that can be used for quick experimentation without any setup required other than installing their Python library. The following cell will create a database and setup a collection that we will use to store our NVCLIP embeddings. We then use the insert function to add all the embeddings that were just displayed on the plot in the previous section. By putting these embeddings into Milvus, it will make it easier to search the vectors. \n",
    "\n",
    "To learn more about how to use Milvus, visit their [quickstart guide](https://milvus.io/docs/quickstart.md). "
   ]
  },
  {
   "cell_type": "code",
   "execution_count": null,
   "id": "c13b035f-850b-4583-a9f4-5413b1363738",
   "metadata": {},
   "outputs": [],
   "source": [
    "from pymilvus import MilvusClient\n",
    "\n",
    "#create database \n",
    "client = MilvusClient(\"milvus_demo.db\")\n",
    "\n",
    "if not client.has_collection(collection_name=\"demo_collection\"):\n",
    "    #create collection in database. This will associate a vector with the metadata\n",
    "    client.create_collection(\n",
    "        collection_name=\"demo_collection\",\n",
    "        dimension=1024 #NVCLIP output dimension\n",
    "        )\n",
    "    res = client.insert(collection_name=\"demo_collection\", data=image_embedding_data)\n",
    "    print(res)\n",
    "client.close()"
   ]
  },
  {
   "cell_type": "markdown",
   "id": "cb9fa86b-c957-48ef-abc2-62958a922a92",
   "metadata": {},
   "source": [
    "The database now has our embeddings loaded and we can provide a new vector to search for the most similar embeddings in the database. The following cell will take the string assigned to the `text_search` variable and then use Milvus to search for the 5 most common images in our vector database. "
   ]
  },
  {
   "cell_type": "code",
   "execution_count": null,
   "id": "6941b87e-b234-4415-b5b2-cf413d10d164",
   "metadata": {},
   "outputs": [],
   "source": [
    "#Embed text search query \n",
    "text_search = \"A School Bus\"\n",
    "resp = nvclip([text_search]) #generate embedding \n",
    "text_embedding = resp[\"data\"][0][\"embedding\"]\n",
    "\n",
    "#Search vector DB for closest images \n",
    "client = MilvusClient(\"milvus_demo.db\")\n",
    "results = client.search(collection_name=\"demo_collection\", data=[text_embedding_data[0][\"vector\"]], limit=5, output_fields=[\"file_name\"]) #search for 5 most similar vectors \n",
    "#print results \n",
    "for x in results:\n",
    "    print(x)\n",
    "client.close()"
   ]
  },
  {
   "cell_type": "markdown",
   "id": "dd0e2e20-252d-411b-9149-d036007b1b77",
   "metadata": {},
   "source": [
    "We can wrap this logic in a while loop and plot the most common images to make a simple semantic search app. Run the following cell to search the database of images through text prompts. A text box will appear at the bottom of the cell where you can type your search terms. The closest matching images will then be displayed. This will run in a loop forever so you must stop the cell manually. "
   ]
  },
  {
   "cell_type": "code",
   "execution_count": null,
   "id": "e0dca305-5a87-4e35-9d15-ddc666defa06",
   "metadata": {},
   "outputs": [],
   "source": [
    "while True:\n",
    "    client = MilvusClient(\"milvus_demo.db\")\n",
    "    text_prompt = input(\"Enter Search Term:\")\n",
    "    resp = nvclip([text_prompt])\n",
    "    query_vector = resp[\"data\"][0][\"embedding\"]\n",
    "    results = client.search(collection_name=\"demo_collection\", data=[query_vector], limit=9, output_fields=[\"file_name\"])\n",
    "    client.close()\n",
    "    image_paths = [x[\"entity\"][\"file_name\"] for x in results[0]]\n",
    "    \n",
    "    num_images = 9\n",
    "    grid_size = (3,3)\n",
    "    \n",
    "    fig, axes = plt.subplots(grid_size[0], grid_size[1], figsize=(15,15))\n",
    "    fig.subplots_adjust()\n",
    "    \n",
    "    for i, ax in enumerate(axes.flat):\n",
    "        img = Image.open(image_paths[i])\n",
    "        ax.imshow(img)\n",
    "        ax.axis(\"off\")\n",
    "    plt.show()\n",
    "    plt.close(fig)"
   ]
  },
  {
   "cell_type": "markdown",
   "id": "bf7bc784-c8da-4b7d-8cbd-3705d6162f47",
   "metadata": {},
   "source": [
    "## 3.4 Interactive Gradio UI for Semantic Search\n",
    "\n",
    "Now we can put all this together to build a cohesive Gradio UI that allows us to easily search any provided folder of images. The code for this application can be found in the same folder as this notebook under \"main.py\". \n",
    "\n",
    "When the script is launched it will automatically generate embeddings for the passed in folder of images and store them in Milvus. The Gradio UI then allows you to actively search the database through text and image prompts.\n",
    "\n",
    "Run the cell below to launch the Gradio UI. It will start the application with the cropped vehicle images generated earlier in this notebook. After running the cell below, you can access the gradio UI at http://localhost:7860"
   ]
  },
  {
   "cell_type": "code",
   "execution_count": null,
   "id": "f08261e4-a58f-42a3-b465-7f6c543b3f40",
   "metadata": {},
   "outputs": [],
   "source": [
    "!{python_exe} main.py traffic_data/vehicleannotations/cropped_vehicles {api_key}"
   ]
  }
 ],
 "metadata": {
  "kernelspec": {
   "display_name": "nvclip_multimodal_search_venv",
   "language": "python",
   "name": "python3"
  },
  "language_info": {
   "codemirror_mode": {
    "name": "ipython",
    "version": 3
   },
   "file_extension": ".py",
   "mimetype": "text/x-python",
   "name": "python",
   "nbconvert_exporter": "python",
   "pygments_lexer": "ipython3",
   "version": "3.12.2"
  }
 },
 "nbformat": 4,
 "nbformat_minor": 5
}
